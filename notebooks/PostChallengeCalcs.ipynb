{
 "cells": [
  {
   "cell_type": "code",
   "execution_count": 2,
   "id": "8e68c9a0",
   "metadata": {},
   "outputs": [],
   "source": [
    "import numpy as np\n",
    "import pandas as pd\n",
    "import seaborn as sns\n",
    "import matplotlib.pyplot as plt\n",
    "from collections import Counter\n",
    "import plotly.express as px\n",
    "import math\n",
    "import os\n",
    "from tqdm import tqdm\n",
    "\n",
    "from sklearn import metrics, model_selection\n",
    "from sklearn.preprocessing import scale, normalize\n",
    "from sklearn import datasets, cluster\n",
    "from sklearn import neighbors, ensemble, tree, linear_model\n",
    "from xgboost import XGBClassifier\n",
    "\n",
    "import warnings\n",
    "warnings.filterwarnings('ignore')"
   ]
  },
  {
   "cell_type": "markdown",
   "id": "b97daaab",
   "metadata": {},
   "source": [
    "### Check balanced accuracy with complete test data"
   ]
  },
  {
   "cell_type": "code",
   "execution_count": 6,
   "id": "179af84d",
   "metadata": {},
   "outputs": [
    {
     "name": "stdout",
     "output_type": "stream",
     "text": [
      "--2022-03-24 18:02:26--  https://raw.githubusercontent.com/cosbidev/COVIDCXRChallenge/main/docs/submission_1.txt\n",
      "Resolving raw.githubusercontent.com (raw.githubusercontent.com)... 185.199.108.133, 185.199.109.133, 185.199.110.133, ...\n",
      "Connecting to raw.githubusercontent.com (raw.githubusercontent.com)|185.199.108.133|:443... connected.\n",
      "HTTP request sent, awaiting response... 200 OK\n",
      "Length: 8540 (8.3K) [text/plain]\n",
      "Saving to: ‘submission_1.txt.1’\n",
      "\n",
      "submission_1.txt.1  100%[===================>]   8.34K  --.-KB/s    in 0s      \n",
      "\n",
      "2022-03-24 18:02:26 (34.4 MB/s) - ‘submission_1.txt.1’ saved [8540/8540]\n",
      "\n"
     ]
    }
   ],
   "source": [
    "! wget https://raw.githubusercontent.com/cosbidev/COVIDCXRChallenge/main/docs/submission_1.txt"
   ]
  },
  {
   "cell_type": "code",
   "execution_count": 3,
   "id": "890474bc",
   "metadata": {},
   "outputs": [],
   "source": [
    "# submission by the COSBI team\n",
    "df_result_cosbi = pd.read_csv('./submission_1.txt', header=None)\n",
    "\n",
    "# submission by rtrain of COSBI model by Andris\n",
    "df_result_cosbi_retrain = pd.read_csv('./reports_andris_retrain1/submission_cosbi_retest.csv', delimiter='\\t', header=[0])\n",
    "\n",
    "# submission by using all COSBI weights\n",
    "df_result_all_cosbi_weights = pd.read_csv('./reports_andris_retrain1/submission_cosbi_all_weights_fromtheir_training.csv', delimiter='\\t', header=[0])\n",
    "\n",
    "# submission by using all COSBI weights for different models\n",
    "df_result_all_cosbi_weights_all_models = pd.read_csv('./reports_andris_retrain1/submission_cosbi_all_weights_from_their_training.csv', delimiter='\\t', header=[0])\n",
    "\n",
    "# submission by using all COSBI weights from retraining\n",
    "df_result_all_cosbi_weights_all_models_retraining = pd.read_csv('./reports_andris_retrain1/submission_cosbi_all_weights_from_retraining.csv', delimiter='\\t', header=[0])"
   ]
  },
  {
   "cell_type": "code",
   "execution_count": null,
   "id": "d95e66e0",
   "metadata": {},
   "outputs": [],
   "source": []
  },
  {
   "cell_type": "code",
   "execution_count": 10,
   "id": "9b0a4529",
   "metadata": {},
   "outputs": [
    {
     "name": "stdout",
     "output_type": "stream",
     "text": [
      "--2022-03-24 18:06:28--  https://ai4covid-hackathon.it/static/index/completeTestClinData.xls\n",
      "Resolving ai4covid-hackathon.it (ai4covid-hackathon.it)... 155.185.49.176\n",
      "Connecting to ai4covid-hackathon.it (ai4covid-hackathon.it)|155.185.49.176|:443... connected.\n",
      "HTTP request sent, awaiting response... 200 OK\n",
      "Length: 185344 (181K) [application/vnd.ms-excel]\n",
      "Saving to: ‘completeTestClinData.xls’\n",
      "\n",
      "completeTestClinDat 100%[===================>] 181.00K  --.-KB/s    in 0.07s   \n",
      "\n",
      "2022-03-24 18:06:28 (2.55 MB/s) - ‘completeTestClinData.xls’ saved [185344/185344]\n",
      "\n"
     ]
    }
   ],
   "source": [
    "! wget https://ai4covid-hackathon.it/static/index/completeTestClinData.xls"
   ]
  },
  {
   "cell_type": "code",
   "execution_count": 33,
   "id": "3dbff190",
   "metadata": {},
   "outputs": [],
   "source": [
    "# full test set\n",
    "df_complete_test = pd.read_excel('./completeTestClinData.xls')"
   ]
  },
  {
   "cell_type": "markdown",
   "id": "83e518c6",
   "metadata": {},
   "source": [
    "## Checks"
   ]
  },
  {
   "cell_type": "code",
   "execution_count": 5,
   "id": "d74513e0",
   "metadata": {},
   "outputs": [
    {
     "name": "stdout",
     "output_type": "stream",
     "text": [
      "Balanced Accuracy on COSBIE submission:\n"
     ]
    },
    {
     "data": {
      "text/plain": [
       "0.911437908496732"
      ]
     },
     "execution_count": 5,
     "metadata": {},
     "output_type": "execute_result"
    }
   ],
   "source": [
    "print('Balanced Accuracy on COSBIE submission:')\n",
    "metrics.balanced_accuracy_score(y_true=df_complete_test['Prognosis'], y_pred=df_result_cosbi[1])"
   ]
  },
  {
   "cell_type": "markdown",
   "id": "c4e5175c",
   "metadata": {},
   "source": [
    "### Downloaded weights Andris"
   ]
  },
  {
   "cell_type": "code",
   "execution_count": 8,
   "id": "4ef184f8",
   "metadata": {},
   "outputs": [
    {
     "name": "stdout",
     "output_type": "stream",
     "text": [
      "Balanced Accuracy COSBIE VGG weights:\n"
     ]
    },
    {
     "data": {
      "text/plain": [
       "0.5529411764705883"
      ]
     },
     "execution_count": 8,
     "metadata": {},
     "output_type": "execute_result"
    }
   ],
   "source": [
    "print('Balanced Accuracy COSBIE VGG weights:')\n",
    "metrics.balanced_accuracy_score(y_true=df_complete_test['Prognosis'].apply(lambda x: 0 if x =='MILD' else 1), y_pred=df_result_all_cosbi_weights_all_models['vgg11_bn'])"
   ]
  },
  {
   "cell_type": "code",
   "execution_count": 9,
   "id": "08caf6e1",
   "metadata": {},
   "outputs": [
    {
     "name": "stdout",
     "output_type": "stream",
     "text": [
      "Balanced Accuracy COSBIE DENSENET weights:\n"
     ]
    },
    {
     "data": {
      "text/plain": [
       "0.5674836601307189"
      ]
     },
     "execution_count": 9,
     "metadata": {},
     "output_type": "execute_result"
    }
   ],
   "source": [
    "print('Balanced Accuracy COSBIE DENSENET weights:')\n",
    "metrics.balanced_accuracy_score(y_true=df_complete_test['Prognosis'].apply(lambda x: 0 if x =='MILD' else 1), y_pred=df_result_all_cosbi_weights_all_models['densenet121'])"
   ]
  },
  {
   "cell_type": "code",
   "execution_count": 10,
   "id": "c2dc5e4c",
   "metadata": {},
   "outputs": [
    {
     "name": "stdout",
     "output_type": "stream",
     "text": [
      "Balanced Accuracy COSBIE MLP weights:\n"
     ]
    },
    {
     "data": {
      "text/plain": [
       "0.6803921568627451"
      ]
     },
     "execution_count": 10,
     "metadata": {},
     "output_type": "execute_result"
    }
   ],
   "source": [
    "print('Balanced Accuracy COSBIE MLP weights:')\n",
    "metrics.balanced_accuracy_score(y_true=df_complete_test['Prognosis'].apply(lambda x: 0 if x =='MILD' else 1), y_pred=df_result_all_cosbi_weights_all_models['mlp_1'])"
   ]
  },
  {
   "cell_type": "code",
   "execution_count": 35,
   "id": "16265362",
   "metadata": {},
   "outputs": [
    {
     "name": "stdout",
     "output_type": "stream",
     "text": [
      "Balanced Accuracy with final COSBIE downlaoded weights:\n"
     ]
    },
    {
     "data": {
      "text/plain": [
       "0.6702614379084967"
      ]
     },
     "execution_count": 35,
     "metadata": {},
     "output_type": "execute_result"
    }
   ],
   "source": [
    "print('Balanced Accuracy with final COSBIE downlaoded weights:')\n",
    "metrics.balanced_accuracy_score(y_true=df_complete_test['Prognosis'].apply(lambda x: 0 if x =='MILD' else 1), y_pred=df_result_all_cosbi_weights['Prognosis'])"
   ]
  },
  {
   "cell_type": "code",
   "execution_count": null,
   "id": "7c431e6b",
   "metadata": {},
   "outputs": [],
   "source": []
  },
  {
   "cell_type": "markdown",
   "id": "73be4e04",
   "metadata": {},
   "source": [
    "### retraining from Andris"
   ]
  },
  {
   "cell_type": "code",
   "execution_count": 13,
   "id": "3d079698",
   "metadata": {},
   "outputs": [
    {
     "name": "stdout",
     "output_type": "stream",
     "text": [
      "Balanced Accuracy retraining VGG weights:\n"
     ]
    },
    {
     "data": {
      "text/plain": [
       "0.6433006535947712"
      ]
     },
     "execution_count": 13,
     "metadata": {},
     "output_type": "execute_result"
    }
   ],
   "source": [
    "print('Balanced Accuracy retraining VGG weights:')\n",
    "metrics.balanced_accuracy_score(y_true=df_complete_test['Prognosis'].apply(lambda x: 0 if x =='MILD' else 1), y_pred=df_result_all_cosbi_weights_all_models_retraining['vgg11_bn'])"
   ]
  },
  {
   "cell_type": "code",
   "execution_count": 14,
   "id": "d8a58aaa",
   "metadata": {},
   "outputs": [
    {
     "name": "stdout",
     "output_type": "stream",
     "text": [
      "Balanced Accuracy retraining DENSENET weights:\n"
     ]
    },
    {
     "data": {
      "text/plain": [
       "0.6436274509803921"
      ]
     },
     "execution_count": 14,
     "metadata": {},
     "output_type": "execute_result"
    }
   ],
   "source": [
    "print('Balanced Accuracy retraining DENSENET weights:')\n",
    "metrics.balanced_accuracy_score(y_true=df_complete_test['Prognosis'].apply(lambda x: 0 if x =='MILD' else 1), y_pred=df_result_all_cosbi_weights_all_models_retraining['densenet121'])"
   ]
  },
  {
   "cell_type": "code",
   "execution_count": 15,
   "id": "a0bc6364",
   "metadata": {},
   "outputs": [
    {
     "name": "stdout",
     "output_type": "stream",
     "text": [
      "Balanced Accuracy retraining MLP weights:\n"
     ]
    },
    {
     "data": {
      "text/plain": [
       "0.6803921568627451"
      ]
     },
     "execution_count": 15,
     "metadata": {},
     "output_type": "execute_result"
    }
   ],
   "source": [
    "print('Balanced Accuracy retraining MLP weights:')\n",
    "metrics.balanced_accuracy_score(y_true=df_complete_test['Prognosis'].apply(lambda x: 0 if x =='MILD' else 1), y_pred=df_result_all_cosbi_weights_all_models_retraining['mlp_1'])"
   ]
  },
  {
   "cell_type": "code",
   "execution_count": 16,
   "id": "330f0b11",
   "metadata": {},
   "outputs": [
    {
     "name": "stdout",
     "output_type": "stream",
     "text": [
      "Balanced Accuracy retraining final weights:\n"
     ]
    },
    {
     "data": {
      "text/plain": [
       "0.6761437908496732"
      ]
     },
     "execution_count": 16,
     "metadata": {},
     "output_type": "execute_result"
    }
   ],
   "source": [
    "print('Balanced Accuracy retraining final weights:')\n",
    "metrics.balanced_accuracy_score(y_true=df_complete_test['Prognosis'].apply(lambda x: 0 if x =='MILD' else 1), y_pred=df_result_all_cosbi_weights_all_models_retraining['densenet121;vgg11_bn;mlp_1'])"
   ]
  },
  {
   "cell_type": "code",
   "execution_count": null,
   "id": "14913897",
   "metadata": {},
   "outputs": [],
   "source": []
  },
  {
   "cell_type": "markdown",
   "id": "bb94e704",
   "metadata": {},
   "source": [
    "### retraining from Zsolt"
   ]
  },
  {
   "cell_type": "code",
   "execution_count": 18,
   "id": "c36e35b7",
   "metadata": {},
   "outputs": [],
   "source": [
    "df_result_all_cosbi_weights_image_models_retraining_zsolt = pd.read_excel('reports_zsolt_retrain1/img/tables/prediction/prediction_submission.xlsx')"
   ]
  },
  {
   "cell_type": "code",
   "execution_count": 19,
   "id": "e720b8c1",
   "metadata": {},
   "outputs": [
    {
     "name": "stdout",
     "output_type": "stream",
     "text": [
      "Balanced Accuracy retraining VGG weights:\n"
     ]
    },
    {
     "data": {
      "text/plain": [
       "0.6238562091503268"
      ]
     },
     "execution_count": 19,
     "metadata": {},
     "output_type": "execute_result"
    }
   ],
   "source": [
    "print('Balanced Accuracy retraining VGG weights:')\n",
    "metrics.balanced_accuracy_score(y_true=df_complete_test['Prognosis'].apply(lambda x: 0 if x =='MILD' else 1), y_pred=df_result_all_cosbi_weights_image_models_retraining_zsolt['vgg11_bn'])"
   ]
  },
  {
   "cell_type": "code",
   "execution_count": 20,
   "id": "076397ca",
   "metadata": {},
   "outputs": [
    {
     "name": "stdout",
     "output_type": "stream",
     "text": [
      "Balanced Accuracy retraining DENSENET weights:\n"
     ]
    },
    {
     "data": {
      "text/plain": [
       "0.6272875816993464"
      ]
     },
     "execution_count": 20,
     "metadata": {},
     "output_type": "execute_result"
    }
   ],
   "source": [
    "print('Balanced Accuracy retraining DENSENET weights:')\n",
    "metrics.balanced_accuracy_score(y_true=df_complete_test['Prognosis'].apply(lambda x: 0 if x =='MILD' else 1), y_pred=df_result_all_cosbi_weights_image_models_retraining_zsolt['densenet121'])"
   ]
  },
  {
   "cell_type": "code",
   "execution_count": 21,
   "id": "b81ebdcd",
   "metadata": {},
   "outputs": [],
   "source": [
    "df_result_all_cosbi_weights_mlp_model_retraining_zsolt = pd.read_excel('reports_zsolt_retrain1/clinical/tables/prediction/prediction_submission.xlsx')"
   ]
  },
  {
   "cell_type": "code",
   "execution_count": 22,
   "id": "905759cb",
   "metadata": {},
   "outputs": [],
   "source": [
    "df_result_all_cosbi_weights_joint_model_retraining_zsolt = pd.read_excel('reports_zsolt_retrain1/multimodal/tables/prediction/prediction_submission.xlsx')"
   ]
  },
  {
   "cell_type": "code",
   "execution_count": 23,
   "id": "18bc0c3b",
   "metadata": {},
   "outputs": [
    {
     "name": "stdout",
     "output_type": "stream",
     "text": [
      "Balanced Accuracy retraining MLP weights:\n"
     ]
    },
    {
     "data": {
      "text/plain": [
       "0.6390522875816993"
      ]
     },
     "execution_count": 23,
     "metadata": {},
     "output_type": "execute_result"
    }
   ],
   "source": [
    "print('Balanced Accuracy retraining MLP weights:')\n",
    "metrics.balanced_accuracy_score(y_true=df_complete_test['Prognosis'].apply(lambda x: 0 if x =='MILD' else 1), y_pred=df_result_all_cosbi_weights_mlp_model_retraining_zsolt['mlp_1'])"
   ]
  },
  {
   "cell_type": "code",
   "execution_count": 24,
   "id": "9479495c",
   "metadata": {},
   "outputs": [
    {
     "name": "stdout",
     "output_type": "stream",
     "text": [
      "Balanced Accuracy retraining final weights:\n"
     ]
    },
    {
     "data": {
      "text/plain": [
       "0.6630718954248366"
      ]
     },
     "execution_count": 24,
     "metadata": {},
     "output_type": "execute_result"
    }
   ],
   "source": [
    "print('Balanced Accuracy retraining final weights:')\n",
    "metrics.balanced_accuracy_score(y_true=df_complete_test['Prognosis'].apply(lambda x: 0 if x =='MILD' else 1), y_pred=df_result_all_cosbi_weights_joint_model_retraining_zsolt['densenet121;vgg11_bn;mlp_1'])"
   ]
  },
  {
   "cell_type": "code",
   "execution_count": null,
   "id": "c42e3bd6",
   "metadata": {},
   "outputs": [],
   "source": []
  },
  {
   "cell_type": "markdown",
   "id": "51dde4bc",
   "metadata": {},
   "source": [
    "### retraining 2 from Zsolt"
   ]
  },
  {
   "cell_type": "code",
   "execution_count": 25,
   "id": "32f85df8",
   "metadata": {},
   "outputs": [],
   "source": [
    "df_result_all_cosbi_weights_image_models_retraining2_zsolt = pd.read_excel('reports_zsolt_retrain2/img/tables/prediction/prediction_submission.xlsx')"
   ]
  },
  {
   "cell_type": "code",
   "execution_count": 26,
   "id": "ad2dae9a",
   "metadata": {},
   "outputs": [
    {
     "name": "stdout",
     "output_type": "stream",
     "text": [
      "Balanced Accuracy retraining VGG weights:\n"
     ]
    },
    {
     "data": {
      "text/plain": [
       "0.4826797385620915"
      ]
     },
     "execution_count": 26,
     "metadata": {},
     "output_type": "execute_result"
    }
   ],
   "source": [
    "print('Balanced Accuracy retraining VGG weights:')\n",
    "metrics.balanced_accuracy_score(y_true=df_complete_test['Prognosis'].apply(lambda x: 0 if x =='MILD' else 1), y_pred=df_result_all_cosbi_weights_image_models_retraining2_zsolt['vgg11_bn'])"
   ]
  },
  {
   "cell_type": "code",
   "execution_count": 27,
   "id": "c7994f19",
   "metadata": {},
   "outputs": [
    {
     "name": "stdout",
     "output_type": "stream",
     "text": [
      "Balanced Accuracy retraining DENSENET weights:\n"
     ]
    },
    {
     "data": {
      "text/plain": [
       "0.6838235294117647"
      ]
     },
     "execution_count": 27,
     "metadata": {},
     "output_type": "execute_result"
    }
   ],
   "source": [
    "print('Balanced Accuracy retraining DENSENET weights:')\n",
    "metrics.balanced_accuracy_score(y_true=df_complete_test['Prognosis'].apply(lambda x: 0 if x =='MILD' else 1), y_pred=df_result_all_cosbi_weights_image_models_retraining2_zsolt['densenet121'])"
   ]
  },
  {
   "cell_type": "code",
   "execution_count": 29,
   "id": "0d4871df",
   "metadata": {},
   "outputs": [],
   "source": [
    "df_result_all_cosbi_weights_mlp_model_retraining2_zsolt = pd.read_excel('reports_zsolt_retrain2/clinical/tables/prediction/prediction_submission.xlsx')"
   ]
  },
  {
   "cell_type": "code",
   "execution_count": 30,
   "id": "bdbd26c7",
   "metadata": {},
   "outputs": [],
   "source": [
    "df_result_all_cosbi_weights_joint_model_retraining2_zsolt = pd.read_excel('reports_zsolt_retrain2/multimodal/tables/prediction/prediction_submission.xlsx')"
   ]
  },
  {
   "cell_type": "code",
   "execution_count": 31,
   "id": "c07ac90b",
   "metadata": {},
   "outputs": [
    {
     "name": "stdout",
     "output_type": "stream",
     "text": [
      "Balanced Accuracy retraining MLP weights:\n"
     ]
    },
    {
     "data": {
      "text/plain": [
       "0.6390522875816993"
      ]
     },
     "execution_count": 31,
     "metadata": {},
     "output_type": "execute_result"
    }
   ],
   "source": [
    "print('Balanced Accuracy retraining MLP weights:')\n",
    "metrics.balanced_accuracy_score(y_true=df_complete_test['Prognosis'].apply(lambda x: 0 if x =='MILD' else 1), y_pred=df_result_all_cosbi_weights_mlp_model_retraining2_zsolt['mlp_1'])"
   ]
  },
  {
   "cell_type": "code",
   "execution_count": 32,
   "id": "533d496a",
   "metadata": {},
   "outputs": [
    {
     "name": "stdout",
     "output_type": "stream",
     "text": [
      "Balanced Accuracy retraining final weights:\n"
     ]
    },
    {
     "data": {
      "text/plain": [
       "0.6838235294117647"
      ]
     },
     "execution_count": 32,
     "metadata": {},
     "output_type": "execute_result"
    }
   ],
   "source": [
    "print('Balanced Accuracy retraining final weights:')\n",
    "metrics.balanced_accuracy_score(y_true=df_complete_test['Prognosis'].apply(lambda x: 0 if x =='MILD' else 1), y_pred=df_result_all_cosbi_weights_joint_model_retraining2_zsolt['densenet121;vgg11_bn;mlp_1'])"
   ]
  },
  {
   "cell_type": "code",
   "execution_count": null,
   "id": "f8d30d34",
   "metadata": {},
   "outputs": [],
   "source": []
  },
  {
   "cell_type": "markdown",
   "id": "139675e5",
   "metadata": {},
   "source": [
    "### Train classical models on complete clinical train data and evaluate on complete test data"
   ]
  },
  {
   "cell_type": "code",
   "execution_count": 122,
   "id": "61f86703",
   "metadata": {},
   "outputs": [],
   "source": [
    "# load the pop average imputed test data\n",
    "df_test = pd.read_csv('../data/preprocessed_data/tables/pop_avg/testClinDataImputedPopAvg.csv')"
   ]
  },
  {
   "cell_type": "code",
   "execution_count": 123,
   "id": "b96fde33",
   "metadata": {},
   "outputs": [],
   "source": [
    "# load the pop average imputed train data\n",
    "df_train = pd.read_csv('../data/preprocessed_data/tables/pop_avg/trainClinDataImputedPopAvg.csv')"
   ]
  },
  {
   "cell_type": "code",
   "execution_count": 124,
   "id": "f126bb70",
   "metadata": {},
   "outputs": [],
   "source": [
    "# full test set\n",
    "df_complete_test = pd.read_excel('./completeTestClinData.xls')"
   ]
  },
  {
   "cell_type": "code",
   "execution_count": 145,
   "id": "4204cdc8",
   "metadata": {},
   "outputs": [],
   "source": [
    "rf     = ensemble.RandomForestClassifier(random_state=42)\n",
    "gb    = ensemble.GradientBoostingClassifier(random_state=42)\n",
    "dt     = tree.DecisionTreeClassifier(random_state=42)\n",
    "lr     = linear_model.LogisticRegression(random_state=42)\n",
    "knn    = neighbors.KNeighborsClassifier(5)\n",
    "xgb    = XGBClassifier(n_estimators=50, max_depth=3, objective='binary:logistic', use_label_encoder=False)"
   ]
  },
  {
   "cell_type": "code",
   "execution_count": 126,
   "id": "0da04dd5",
   "metadata": {},
   "outputs": [],
   "source": [
    "cols_top_drop = ['Death', 'ImageFile']\n",
    "df_train.drop(cols_top_drop, axis=1, inplace=True)\n",
    "df_test.drop(cols_top_drop, axis=1, inplace=True)\n",
    "\n",
    "df_train['Prognosis'] = df_train['Prognosis'].apply(lambda x: 0 if x =='MILD' else 1)\n",
    "df_test['Prognosis'] = df_test['Prognosis'].apply(lambda x: 0 if x =='MILD' else 1)\n",
    "\n",
    "df_complete_test['Prognosis'] = df_complete_test['Prognosis'].apply(lambda x: 0 if x =='MILD' else 1)"
   ]
  },
  {
   "cell_type": "code",
   "execution_count": null,
   "id": "6a175fa9",
   "metadata": {},
   "outputs": [],
   "source": []
  },
  {
   "cell_type": "code",
   "execution_count": 161,
   "id": "c3a82f5f",
   "metadata": {},
   "outputs": [
    {
     "name": "stdout",
     "output_type": "stream",
     "text": [
      "[14:46:56] WARNING: ../src/learner.cc:1115: Starting in XGBoost 1.3.0, the default evaluation metric used with the objective 'binary:logistic' was changed from 'error' to 'logloss'. Explicitly set eval_metric if you'd like to restore the old behavior.\n"
     ]
    }
   ],
   "source": [
    "model_name = []\n",
    "ba_score = []\n",
    "\n",
    "for idx, model in enumerate([rf, gb, dt, lr, knn, xgb]):\n",
    "    \n",
    "    model.fit(df_complete_train.drop('Prognosis', axis=1), df_complete_train['Prognosis'])\n",
    "    \n",
    "    preds = model.predict(df_test.drop('Prognosis', axis=1))\n",
    "    \n",
    "    model_name.append(str(model).partition('(')[0])\n",
    "    \n",
    "    ba_score.append(np.round(metrics.balanced_accuracy_score(y_true=df_complete_test['Prognosis'], y_pred=preds) ,3))"
   ]
  },
  {
   "cell_type": "code",
   "execution_count": 264,
   "id": "fcbbf20a",
   "metadata": {},
   "outputs": [
    {
     "data": {
      "text/plain": [
       "Text(0, 0.5, 'Balanced Accuracy Score')"
      ]
     },
     "execution_count": 264,
     "metadata": {},
     "output_type": "execute_result"
    },
    {
     "data": {
      "image/png": "[encoded data removed]",
      "text/plain": [
       "<Figure size 3000x1200 with 1 Axes>"
      ]
     },
     "metadata": {
      "needs_background": "light"
     },
     "output_type": "display_data"
    }
   ],
   "source": [
    "def addlabels(x,y):\n",
    "    for i in range(len(x)):\n",
    "        plt.text(i, y[i]-0.05, y[i], ha = 'center', c='yellow', fontsize=10, fontweight='bold')\n",
    "\n",
    "fig, ax = plt.subplots(figsize=(10,4), dpi=300)\n",
    "bp = ax.bar(x=np.array(model_name)[np.array(ba_score).argsort()], height=np.array(ba_score)[np.array(ba_score).argsort()])\n",
    "plt.xticks(range(len(model_name)), model_name, rotation=90)\n",
    "addlabels(np.array(model_name)[np.array(ba_score).argsort()], np.array(ba_score)[np.array(ba_score).argsort()])\n",
    "plt.yticks(fontsize=10)\n",
    "plt.xticks(fontsize=10)\n",
    "plt.ylabel('Balanced Accuracy Score')"
   ]
  }
 ],
 "metadata": {
  "kernelspec": {
   "display_name": "Python 3 (ipykernel)",
   "language": "python",
   "name": "python3"
  },
  "language_info": {
   "codemirror_mode": {
    "name": "ipython",
    "version": 3
   },
   "file_extension": ".py",
   "mimetype": "text/x-python",
   "name": "python",
   "nbconvert_exporter": "python",
   "pygments_lexer": "ipython3",
   "version": "3.8.10"
  }
 },
 "nbformat": 4,
 "nbformat_minor": 5
}
