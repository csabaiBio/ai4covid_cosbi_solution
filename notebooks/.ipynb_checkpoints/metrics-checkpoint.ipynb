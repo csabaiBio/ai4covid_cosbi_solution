{
 "cells": [
  {
   "cell_type": "code",
   "execution_count": 1,
   "id": "93784958",
   "metadata": {},
   "outputs": [
    {
     "data": {
      "text/html": [
       "<style>.container { width:100% !important; }</style>"
      ],
      "text/plain": [
       "<IPython.core.display.HTML object>"
      ]
     },
     "metadata": {},
     "output_type": "display_data"
    }
   ],
   "source": [
    "from IPython.display import display, HTML\n",
    "display(HTML(\"<style>.container { width:100% !important; }</style>\"))"
   ]
  },
  {
   "cell_type": "code",
   "execution_count": 30,
   "id": "be660df3",
   "metadata": {},
   "outputs": [],
   "source": [
    "import numpy as np\n",
    "import pandas as pd\n",
    "import seaborn as sns\n",
    "import matplotlib.pyplot as plt\n",
    "from collections import Counter\n",
    "import plotly.express as px\n",
    "import math\n",
    "\n",
    "from sklearn import metrics, model_selection\n",
    "from sklearn.preprocessing import scale, normalize\n",
    "from sklearn import datasets, cluster\n",
    "from sklearn import neighbors, ensemble, tree, linear_model\n",
    "from xgboost import XGBClassifier\n",
    "from sklearn.model_selection import train_test_split\n",
    "from sklearn.feature_selection import RFE\n",
    "\n",
    "import warnings\n",
    "warnings.filterwarnings('ignore')"
   ]
  },
  {
   "cell_type": "code",
   "execution_count": 72,
   "id": "6ce5a26d",
   "metadata": {},
   "outputs": [],
   "source": [
    "imputed_data_age_average = pd.read_csv('../data/preprocessed_data/tables/age_avg/trainClinDataImputedAgeAvg.csv')\n",
    "imputed_data_age_average['Prognosis'] = imputed_data_age_average['Prognosis'].apply(lambda x: 0 if x =='MILD' else 1)\n",
    "cols_top_drop = ['Prognosis', 'Death', 'ImageFile']"
   ]
  },
  {
   "cell_type": "code",
   "execution_count": 68,
   "id": "3251be27",
   "metadata": {},
   "outputs": [],
   "source": [
    "trainClinDataImputedAgeAvg_cv1 = pd.read_csv('../data/preprocessed_data/tables/age_avg/trainClinDataImputedAgeAvg_cv1.csv')\n",
    "trainClinDataImputedAgeAvg_cv2 = pd.read_csv('../data/preprocessed_data/tables/age_avg/trainClinDataImputedAgeAvg_cv2.csv')\n",
    "trainClinDataImputedAgeAvg_cv3 = pd.read_csv('../data/preprocessed_data/tables/age_avg/trainClinDataImputedAgeAvg_cv3.csv')\n",
    "trainClinDataImputedAgeAvg_cv4 = pd.read_csv('../data/preprocessed_data/tables/age_avg/trainClinDataImputedAgeAvg_cv4.csv')\n",
    "trainClinDataImputedAgeAvg_cv5 = pd.read_csv('../data/preprocessed_data/tables/age_avg/trainClinDataImputedAgeAvg_cv5.csv')\n",
    "\n",
    "validClinDataImputedAgeAvg_cv1 = pd.read_csv('../data/preprocessed_data/tables/age_avg/validClinDataImputedAgeAvg_cv1.csv')\n",
    "validClinDataImputedAgeAvg_cv2 = pd.read_csv('../data/preprocessed_data/tables/age_avg/validClinDataImputedAgeAvg_cv2.csv')\n",
    "validClinDataImputedAgeAvg_cv3 = pd.read_csv('../data/preprocessed_data/tables/age_avg/validClinDataImputedAgeAvg_cv3.csv')\n",
    "validClinDataImputedAgeAvg_cv4 = pd.read_csv('../data/preprocessed_data/tables/age_avg/validClinDataImputedAgeAvg_cv4.csv')\n",
    "validClinDataImputedAgeAvg_cv5 = pd.read_csv('../data/preprocessed_data/tables/age_avg/validClinDataImputedAgeAvg_cv5.csv')"
   ]
  },
  {
   "cell_type": "code",
   "execution_count": null,
   "id": "e3992591",
   "metadata": {},
   "outputs": [],
   "source": []
  },
  {
   "cell_type": "code",
   "execution_count": null,
   "id": "4f6abffb",
   "metadata": {},
   "outputs": [],
   "source": []
  },
  {
   "cell_type": "code",
   "execution_count": 47,
   "id": "c039c62b",
   "metadata": {},
   "outputs": [],
   "source": [
    "def get_explanining_variables( selector, original_feature_columns, X_test, y_test ):\n",
    "    return sorted( original_feature_columns[selector.support_].values.tolist() ),\\\n",
    "           selector.score(X_test, y_test),\\\n",
    "           selector.predict(X_test)"
   ]
  },
  {
   "cell_type": "code",
   "execution_count": 48,
   "id": "6bb7d5d3",
   "metadata": {},
   "outputs": [],
   "source": [
    "def do_rfe_with_cv( regressor, X, y, n_features_to_select=20 ):\n",
    "    rfe = RFE( estimator=regressor, n_features_to_select=n_features_to_select, step=1 )\n",
    "    rfe = rfe.fit(X, y)\n",
    "    return rfe"
   ]
  },
  {
   "cell_type": "code",
   "execution_count": 49,
   "id": "a932e3f3",
   "metadata": {},
   "outputs": [],
   "source": [
    "X_train, X_test, y_train, y_test = train_test_split( imputed_data_age_average.drop(cols_top_drop, axis=1), imputed_data_age_average['Prognosis'], test_size=.1, random_state=42 )"
   ]
  },
  {
   "cell_type": "code",
   "execution_count": 56,
   "id": "ae7f2373",
   "metadata": {},
   "outputs": [
    {
     "data": {
      "text/plain": [
       "['Age',\n",
       " 'BPCO',\n",
       " 'CRP',\n",
       " 'CardiovascularDisease',\n",
       " 'Cough',\n",
       " 'D_dimer',\n",
       " 'DaysFever',\n",
       " 'Diabetes',\n",
       " 'DifficultyInBreathing',\n",
       " 'Fibrinogen',\n",
       " 'Glucose',\n",
       " 'HighBloodPressure',\n",
       " 'Hospital_A',\n",
       " 'Hospital_C',\n",
       " 'Hospital_D',\n",
       " 'Hospital_F',\n",
       " 'INR',\n",
       " 'IschemicHeartDisease',\n",
       " 'LDH',\n",
       " 'Ox_percentage',\n",
       " 'PCT',\n",
       " 'PaCO2',\n",
       " 'PaO2',\n",
       " 'Position',\n",
       " 'RBC',\n",
       " 'SaO2',\n",
       " 'Sex',\n",
       " 'Temp_C',\n",
       " 'WBC',\n",
       " 'pH']"
      ]
     },
     "execution_count": 56,
     "metadata": {},
     "output_type": "execute_result"
    }
   ],
   "source": [
    "exp_logi, logi_test_score, logi_preds = get_explanining_variables(\n",
    "    do_rfe_with_cv(ensemble.RandomForestClassifier(), X_train, y_train, n_features_to_select=30),\n",
    "                    imputed_data_age_average.drop(cols_top_drop, axis=1).columns, X_test, y_test)\n",
    "exp_logi"
   ]
  },
  {
   "cell_type": "markdown",
   "id": "966e02f7",
   "metadata": {},
   "source": [
    "### Calculating metrics"
   ]
  },
  {
   "cell_type": "code",
   "execution_count": 58,
   "id": "ec4bce22",
   "metadata": {},
   "outputs": [
    {
     "name": "stdout",
     "output_type": "stream",
     "text": [
      "[17:20:35] WARNING: ../src/learner.cc:1115: Starting in XGBoost 1.3.0, the default evaluation metric used with the objective 'binary:logistic' was changed from 'error' to 'logloss'. Explicitly set eval_metric if you'd like to restore the old behavior.\n",
      "[17:20:35] WARNING: ../src/learner.cc:1115: Starting in XGBoost 1.3.0, the default evaluation metric used with the objective 'binary:logistic' was changed from 'error' to 'logloss'. Explicitly set eval_metric if you'd like to restore the old behavior.\n",
      "[17:20:36] WARNING: ../src/learner.cc:1115: Starting in XGBoost 1.3.0, the default evaluation metric used with the objective 'binary:logistic' was changed from 'error' to 'logloss'. Explicitly set eval_metric if you'd like to restore the old behavior.\n",
      "[17:20:36] WARNING: ../src/learner.cc:1115: Starting in XGBoost 1.3.0, the default evaluation metric used with the objective 'binary:logistic' was changed from 'error' to 'logloss'. Explicitly set eval_metric if you'd like to restore the old behavior.\n",
      "[17:20:36] WARNING: ../src/learner.cc:1115: Starting in XGBoost 1.3.0, the default evaluation metric used with the objective 'binary:logistic' was changed from 'error' to 'logloss'. Explicitly set eval_metric if you'd like to restore the old behavior.\n"
     ]
    },
    {
     "data": {
      "text/html": [
       "<div>\n",
       "<style scoped>\n",
       "    .dataframe tbody tr th:only-of-type {\n",
       "        vertical-align: middle;\n",
       "    }\n",
       "\n",
       "    .dataframe tbody tr th {\n",
       "        vertical-align: top;\n",
       "    }\n",
       "\n",
       "    .dataframe thead th {\n",
       "        text-align: right;\n",
       "    }\n",
       "</style>\n",
       "<table border=\"1\" class=\"dataframe\">\n",
       "  <thead>\n",
       "    <tr style=\"text-align: right;\">\n",
       "      <th></th>\n",
       "      <th>random forest</th>\n",
       "      <th>decision tree</th>\n",
       "      <th>logistic_regression</th>\n",
       "      <th>knn</th>\n",
       "      <th>xgb</th>\n",
       "    </tr>\n",
       "  </thead>\n",
       "  <tbody>\n",
       "    <tr>\n",
       "      <th>0</th>\n",
       "      <td>0.736</td>\n",
       "      <td>0.628</td>\n",
       "      <td>0.728</td>\n",
       "      <td>0.67</td>\n",
       "      <td>0.719</td>\n",
       "    </tr>\n",
       "  </tbody>\n",
       "</table>\n",
       "</div>"
      ],
      "text/plain": [
       "   random forest  decision tree  logistic_regression   knn    xgb\n",
       "0          0.736          0.628                0.728  0.67  0.719"
      ]
     },
     "execution_count": 58,
     "metadata": {},
     "output_type": "execute_result"
    }
   ],
   "source": [
    "\n",
    "#init models\n",
    "kmeans = cluster.KMeans(n_clusters=2, random_state=42)\n",
    "rf     = ensemble.RandomForestClassifier(random_state=42)\n",
    "dt     = tree.DecisionTreeClassifier()\n",
    "lr     = linear_model.LogisticRegression()\n",
    "knn    = neighbors.KNeighborsClassifier(5)\n",
    "xgb    = XGBClassifier(n_estimators=50, max_depth=10, objective='binary:logistic', use_label_encoder=False)\n",
    "\n",
    "\n",
    "#CV\n",
    "#cols_to_keep = ['Age', 'CRP', 'ChronicKidneyDisease', 'Diabetes', 'DifficultyInBreathing', 'Hospital_A', 'Hospital_B', 'Hospital_C', 'Hospital_D', 'Hospital_E', 'Hospital_F', 'Ictus', 'LDH', 'Obesity', 'Ox_percentage', 'PCT', 'Position', 'PositivityAtAdmission', 'SaO2', 'Sex']\n",
    "cols_to_keep = ['Age',\n",
    " 'BPCO',\n",
    " 'CRP',\n",
    " 'CardiovascularDisease',\n",
    " 'Cough',\n",
    " 'D_dimer',\n",
    " 'DaysFever',\n",
    " 'Diabetes',\n",
    " 'DifficultyInBreathing',\n",
    " 'Fibrinogen',\n",
    " 'Glucose',\n",
    " 'HighBloodPressure',\n",
    " 'Hospital_A',\n",
    " 'Hospital_C',\n",
    " 'Hospital_D',\n",
    " 'Hospital_F',\n",
    " 'INR',\n",
    " 'IschemicHeartDisease',\n",
    " 'LDH',\n",
    " 'Ox_percentage',\n",
    " 'PCT',\n",
    " 'PaCO2',\n",
    " 'PaO2',\n",
    " 'Position',\n",
    " 'RBC',\n",
    " 'SaO2',\n",
    " 'Sex',\n",
    " 'Temp_C',\n",
    " 'WBC',\n",
    " 'pH']\n",
    "rf_preds   = model_selection.cross_val_predict(rf, imputed_data_age_average[cols_to_keep], imputed_data_age_average['Prognosis'], method='predict', cv=5)\n",
    "tree_preds = model_selection.cross_val_predict(dt, imputed_data_age_average[cols_to_keep], imputed_data_age_average['Prognosis'], method='predict', cv=5)\n",
    "lr_preds   = model_selection.cross_val_predict(lr, imputed_data_age_average[cols_to_keep], imputed_data_age_average['Prognosis'], method='predict', cv=5)\n",
    "knn_preds  = model_selection.cross_val_predict(knn, imputed_data_age_average[cols_to_keep], imputed_data_age_average['Prognosis'], method='predict', cv=5)\n",
    "xgb_preds  = model_selection.cross_val_predict(xgb, imputed_data_age_average[cols_to_keep], imputed_data_age_average['Prognosis'], method='predict', cv=5)\n",
    "\n",
    "balanced_accuracy_all_list = []\n",
    "for idx, preds in enumerate([rf_preds, tree_preds, lr_preds, knn_preds, xgb_preds]):\n",
    "    balanced_accuracy = np.round(metrics.balanced_accuracy_score(y_pred=preds, y_true=imputed_data_age_average['Prognosis']), 3)\n",
    "    balanced_accuracy_all_list.append(balanced_accuracy)\n",
    "    \n",
    "balanced_accuracy_all = pd.DataFrame(np.array(balanced_accuracy_all_list).reshape(1,-1), columns=['random forest', 'decision tree', 'logistic_regression', 'knn', 'xgb'])\n",
    "balanced_accuracy_all"
   ]
  },
  {
   "cell_type": "code",
   "execution_count": 70,
   "id": "05be755a",
   "metadata": {},
   "outputs": [
    {
     "ename": "SyntaxError",
     "evalue": "invalid syntax (2383861795.py, line 1)",
     "output_type": "error",
     "traceback": [
      "\u001b[0;36m  Input \u001b[0;32mIn [70]\u001b[0;36m\u001b[0m\n\u001b[0;31m    random forest\tdecision tree\tlogistic_regression\tknn\txgb\u001b[0m\n\u001b[0m           ^\u001b[0m\n\u001b[0;31mSyntaxError\u001b[0m\u001b[0;31m:\u001b[0m invalid syntax\n"
     ]
    }
   ],
   "source": [
    "\n",
    "random forest\tdecision tree\tlogistic_regression\tknn\txgb\n",
    "0\t0.747\t0.671\t0.73\t0.698\t0.744"
   ]
  },
  {
   "cell_type": "code",
   "execution_count": null,
   "id": "83600d96",
   "metadata": {},
   "outputs": [],
   "source": []
  },
  {
   "cell_type": "code",
   "execution_count": 90,
   "id": "572a0ff0",
   "metadata": {},
   "outputs": [],
   "source": [
    "# check on folds from janos server"
   ]
  },
  {
   "cell_type": "code",
   "execution_count": null,
   "id": "10f95958",
   "metadata": {},
   "outputs": [],
   "source": []
  },
  {
   "cell_type": "code",
   "execution_count": 95,
   "id": "4fe52b6a",
   "metadata": {},
   "outputs": [],
   "source": [
    "rf_preds   = ensemble.RandomForestClassifier(random_state=42).fit(trainClinDataImputedAgeAvg_cv1.drop(cols_top_drop, axis=1), trainClinDataImputedAgeAvg_cv1['Prognosis'].apply(lambda x: 0 if x =='MILD' else 1)).predict(validClinDataImputedAgeAvg_cv1.drop(cols_top_drop, axis=1))"
   ]
  },
  {
   "cell_type": "code",
   "execution_count": 96,
   "id": "d00edaea",
   "metadata": {},
   "outputs": [
    {
     "data": {
      "text/plain": [
       "0.724"
      ]
     },
     "execution_count": 96,
     "metadata": {},
     "output_type": "execute_result"
    }
   ],
   "source": [
    "balanced_accuracy = np.round(metrics.balanced_accuracy_score(y_pred=rf_preds, y_true=validClinDataImputedAgeAvg_cv1['Prognosis'].apply(lambda x: 0 if x =='MILD' else 1)), 3)\n",
    "balanced_accuracy"
   ]
  },
  {
   "cell_type": "code",
   "execution_count": null,
   "id": "9427c108",
   "metadata": {},
   "outputs": [],
   "source": []
  }
 ],
 "metadata": {
  "kernelspec": {
   "display_name": "Python 3 (ipykernel)",
   "language": "python",
   "name": "python3"
  },
  "language_info": {
   "codemirror_mode": {
    "name": "ipython",
    "version": 3
   },
   "file_extension": ".py",
   "mimetype": "text/x-python",
   "name": "python",
   "nbconvert_exporter": "python",
   "pygments_lexer": "ipython3",
   "version": "3.8.10"
  }
 },
 "nbformat": 4,
 "nbformat_minor": 5
}
